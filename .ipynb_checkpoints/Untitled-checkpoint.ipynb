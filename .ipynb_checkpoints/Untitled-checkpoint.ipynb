{
 "cells": [
  {
   "cell_type": "code",
   "execution_count": 1,
   "id": "83fdbbc0",
   "metadata": {},
   "outputs": [],
   "source": [
    "import numpy as np\n",
    "import pandas as pd\n",
    "import matplotlib.pyplot as plt\n",
    "plt.style.use('ggplot')\n",
    "\n",
    "import pandas_datareader.data as web\n",
    "\n",
    "import yfinance as yf"
   ]
  },
  {
   "cell_type": "code",
   "execution_count": 207,
   "id": "3e9695c2",
   "metadata": {},
   "outputs": [],
   "source": [
    "# get current snp symbols\n",
    "snp_wiki = pd.read_html('https://en.wikipedia.org/wiki/List_of_S%26P_500_companies')\n",
    "symbols = snp_wiki[0]['Symbol'].values\n",
    "\n",
    "# access random subset of snp symbols\n",
    "size = 500\n",
    "random_idxs = np.random.choice(len(symbols), size=size, replace=False)\n",
    "symbols = symbols[random_idxs]\n",
    "\n",
    "# concatenate symbols into string for yfinance api\n",
    "space = \" \"\n",
    "symbols_string = space.join(symbols)\n",
    "symbols_string = symbols_string.replace(\".\", \"-\")"
   ]
  },
  {
   "cell_type": "code",
   "execution_count": 208,
   "id": "6d179587",
   "metadata": {},
   "outputs": [
    {
     "name": "stdout",
     "output_type": "stream",
     "text": [
      "[*********************100%***********************]  500 of 500 completed\n"
     ]
    }
   ],
   "source": [
    "# load data from 2000 onward\n",
    "start_date = '2010-01-01'\n",
    "data = yf.download(symbols_string, start=start_date, end=end_date)\n",
    "\n",
    "# remove columns with nan values\n",
    "# data.dropna(axis=1, inplace=True)"
   ]
  },
  {
   "cell_type": "code",
   "execution_count": 209,
   "id": "7c083d33",
   "metadata": {},
   "outputs": [
    {
     "data": {
      "text/plain": [
       "0.116"
      ]
     },
     "execution_count": 209,
     "metadata": {},
     "output_type": "execute_result"
    }
   ],
   "source": [
    "# Count number of nans in each row\n",
    "col_nan_counts = np.bincount(np.where(np.isnan(data.values))[1])\n",
    "\n",
    "# Find percentage of cols in DF with > 4% nan values (turns out this is only ~10-12% of all cols)\n",
    "len(np.where(col_nan_counts > len(data) // 25)[0]) / len(col_nan_counts)"
   ]
  },
  {
   "cell_type": "code",
   "execution_count": null,
   "id": "ef9bd6e5",
   "metadata": {},
   "outputs": [],
   "source": []
  }
 ],
 "metadata": {
  "kernelspec": {
   "display_name": "Python 3",
   "language": "python",
   "name": "python3"
  },
  "language_info": {
   "codemirror_mode": {
    "name": "ipython",
    "version": 3
   },
   "file_extension": ".py",
   "mimetype": "text/x-python",
   "name": "python",
   "nbconvert_exporter": "python",
   "pygments_lexer": "ipython3",
   "version": "3.8.8"
  }
 },
 "nbformat": 4,
 "nbformat_minor": 5
}
