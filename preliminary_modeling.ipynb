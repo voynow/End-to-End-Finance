{
 "cells": [
  {
   "cell_type": "code",
   "execution_count": 1,
   "id": "fd3ad13d",
   "metadata": {},
   "outputs": [],
   "source": [
    "import numpy as np\n",
    "import matplotlib.pyplot as plt\n",
    "\n",
    "import misc_data_utils"
   ]
  },
  {
   "cell_type": "code",
   "execution_count": 2,
   "id": "ad34d1bd",
   "metadata": {},
   "outputs": [
    {
     "name": "stdout",
     "output_type": "stream",
     "text": [
      "[*********************100%***********************]  505 of 505 completed\n"
     ]
    }
   ],
   "source": [
    "data = misc_data_utils.get_snp_data(start=\"2000-01-01\")"
   ]
  },
  {
   "cell_type": "code",
   "execution_count": 3,
   "id": "c92960ca",
   "metadata": {},
   "outputs": [],
   "source": [
    "raw_data = data[\"Adj Close\"].pct_change().values[1:]"
   ]
  },
  {
   "cell_type": "code",
   "execution_count": 4,
   "id": "914a5bdc",
   "metadata": {},
   "outputs": [],
   "source": [
    "isnan_bool = np.isnan(raw_data[0])\n",
    "nan_cols = np.where(isnan_bool)[0]\n",
    "\n",
    "raw_data_clean = raw_data[:, np.where(1 - isnan_bool)[0]]"
   ]
  },
  {
   "cell_type": "code",
   "execution_count": 7,
   "id": "d01b16a6",
   "metadata": {},
   "outputs": [],
   "source": [
    "nan_data = raw_data[:, nan_cols]\n",
    "rows, cols = np.where(np.isnan(nan_data))\n",
    "\n",
    "cleaned_data = []\n",
    "for i in range(nan_data.shape[1]):\n",
    "    last_nan_row = np.max(rows[np.where(cols == i)])\n",
    "    cleaned_data.append(nan_data[:, i][last_nan_row + 1:])\n",
    "\n",
    "for i in range(raw_data_clean.shape[1]):\n",
    "    cleaned_data.append(raw_data_clean[:, i])"
   ]
  },
  {
   "cell_type": "code",
   "execution_count": null,
   "id": "35546788",
   "metadata": {},
   "outputs": [],
   "source": [
    "np.isnan(cleaned_data[i]) for i in range(len(cleaned_data))]"
   ]
  }
 ],
 "metadata": {
  "kernelspec": {
   "display_name": "Python 3",
   "language": "python",
   "name": "python3"
  },
  "language_info": {
   "codemirror_mode": {
    "name": "ipython",
    "version": 3
   },
   "file_extension": ".py",
   "mimetype": "text/x-python",
   "name": "python",
   "nbconvert_exporter": "python",
   "pygments_lexer": "ipython3",
   "version": "3.8.8"
  }
 },
 "nbformat": 4,
 "nbformat_minor": 5
}
