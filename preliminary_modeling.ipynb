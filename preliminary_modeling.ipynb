{
 "cells": [
  {
   "cell_type": "code",
   "execution_count": null,
   "id": "a6f3fbac",
   "metadata": {},
   "outputs": [],
   "source": [
    "\"\"\"\n",
    "TODO:\n",
    "- train test split for validating model performance\n",
    "- logic to do price change directional classification\n",
    "- mechanism for predicting n timesteps in the future\n",
    "\n",
    "\"\"\""
   ]
  },
  {
   "cell_type": "code",
   "execution_count": 2,
   "id": "fd3ad13d",
   "metadata": {},
   "outputs": [
    {
     "name": "stdout",
     "output_type": "stream",
     "text": [
      "The autoreload extension is already loaded. To reload it, use:\n",
      "  %reload_ext autoreload\n"
     ]
    }
   ],
   "source": [
    "%load_ext autoreload\n",
    "%autoreload 2\n",
    "\n",
    "import numpy as np\n",
    "import pandas as pd\n",
    "import matplotlib.pyplot as plt\n",
    "plt.style.use('seaborn')\n",
    "\n",
    "import misc_data_utils"
   ]
  },
  {
   "cell_type": "code",
   "execution_count": 6,
   "id": "ad34d1bd",
   "metadata": {},
   "outputs": [
    {
     "name": "stdout",
     "output_type": "stream",
     "text": [
      "Using 50 symbols\n",
      "[*********************100%***********************]  50 of 50 completed\n"
     ]
    }
   ],
   "source": [
    "# Couldn't find: ZTS PH PAYX PAYC PYPL PENN PNR PBCT TROW\n",
    "data = misc_data_utils.get_snp_data(size=50, start=\"1990-01-01\")"
   ]
  },
  {
   "cell_type": "code",
   "execution_count": 7,
   "id": "c92960ca",
   "metadata": {},
   "outputs": [],
   "source": [
    "raw_data = data[\"Adj Close\"].pct_change().values[1:]"
   ]
  },
  {
   "cell_type": "code",
   "execution_count": 8,
   "id": "914a5bdc",
   "metadata": {},
   "outputs": [],
   "source": [
    "isnan_bool = np.isnan(raw_data[0])\n",
    "nan_cols = np.where(isnan_bool)[0]\n",
    "\n",
    "raw_data_clean = raw_data[:, np.where(1 - isnan_bool)[0]]"
   ]
  },
  {
   "cell_type": "code",
   "execution_count": 9,
   "id": "d01b16a6",
   "metadata": {},
   "outputs": [],
   "source": [
    "nan_data = raw_data[:, nan_cols]\n",
    "rows, cols = np.where(np.isnan(nan_data))\n",
    "\n",
    "cleaned_data = []\n",
    "for i in range(nan_data.shape[1]):\n",
    "    last_nan_row = np.max(rows[np.where(cols == i)])\n",
    "    not_nan_data = nan_data[:, i][last_nan_row + 1:]\n",
    "    if len(not_nan_data):\n",
    "        cleaned_data.append(not_nan_data)\n",
    "\n",
    "for i in range(raw_data_clean.shape[1]):\n",
    "    cleaned_data.append(raw_data_clean[:, i])"
   ]
  },
  {
   "cell_type": "code",
   "execution_count": 10,
   "id": "35546788",
   "metadata": {},
   "outputs": [
    {
     "data": {
      "text/plain": [
       "0"
      ]
     },
     "execution_count": 10,
     "metadata": {},
     "output_type": "execute_result"
    }
   ],
   "source": [
    "np.sum([np.sum(np.isnan(cleaned_data[i])) for i in range(len(cleaned_data))])\n",
    "\n",
    "# No more nans"
   ]
  },
  {
   "cell_type": "code",
   "execution_count": 11,
   "id": "905f64a1",
   "metadata": {},
   "outputs": [],
   "source": [
    "remove_idxs = []\n",
    "for i in range(len(cleaned_data)):\n",
    "    if len(np.where(cleaned_data[i] == 0)[0]) / len(cleaned_data[i]) > .04:\n",
    "        remove_idxs.append(i)\n",
    "\n",
    "cleaned_data_ = []\n",
    "for i in range(len(cleaned_data)):\n",
    "    if i not in remove_idxs:\n",
    "        cleaned_data_.append(cleaned_data[i])"
   ]
  },
  {
   "cell_type": "code",
   "execution_count": 12,
   "id": "e198f702",
   "metadata": {},
   "outputs": [],
   "source": [
    "lag = 20\n",
    "inputs = []\n",
    "outputs = []\n",
    "for data in cleaned_data:\n",
    "    inputs.append(np.array([data[i-lag:i] for i in range(lag, len(data))]))\n",
    "    outputs.append(np.array([data[i] for i in range(lag, len(data))]))"
   ]
  },
  {
   "cell_type": "code",
   "execution_count": 13,
   "id": "ce1ba374",
   "metadata": {},
   "outputs": [],
   "source": [
    "x, y = np.vstack(inputs), np.hstack(outputs)"
   ]
  },
  {
   "cell_type": "code",
   "execution_count": 14,
   "id": "f2c8c639",
   "metadata": {},
   "outputs": [],
   "source": [
    "from tensorflow.keras import Sequential\n",
    "from tensorflow.keras.layers import Dense"
   ]
  },
  {
   "cell_type": "code",
   "execution_count": 15,
   "id": "b85b38ab",
   "metadata": {},
   "outputs": [],
   "source": [
    "layers = [\n",
    "    Dense(64, activation='relu'), \n",
    "    Dense(128, activation='relu'), \n",
    "    Dense(128, activation='relu'), \n",
    "    Dense(64, activation='relu'),\n",
    "    Dense(1, activation='linear')\n",
    "]\n",
    "\n",
    "model = Sequential(layers)\n",
    "model.compile(loss=\"mse\", optimizer=\"adam\")"
   ]
  },
  {
   "cell_type": "code",
   "execution_count": 18,
   "id": "8974b006",
   "metadata": {},
   "outputs": [
    {
     "name": "stdout",
     "output_type": "stream",
     "text": [
      "Epoch 1/20\n",
      "310/310 [==============================] - 2s 6ms/step - loss: 5.9441e-04\n",
      "Epoch 2/20\n",
      "310/310 [==============================] - 2s 6ms/step - loss: 5.9082e-04\n",
      "Epoch 3/20\n",
      "310/310 [==============================] - 2s 6ms/step - loss: 5.8657e-04\n",
      "Epoch 4/20\n",
      "310/310 [==============================] - 2s 6ms/step - loss: 5.8343e-04\n",
      "Epoch 5/20\n",
      "310/310 [==============================] - 2s 6ms/step - loss: 5.7991e-04\n",
      "Epoch 6/20\n",
      "310/310 [==============================] - 2s 6ms/step - loss: 5.7662e-04\n",
      "Epoch 7/20\n",
      "310/310 [==============================] - 2s 6ms/step - loss: 5.7290e-04\n",
      "Epoch 8/20\n",
      "310/310 [==============================] - 2s 6ms/step - loss: 5.7002e-04\n",
      "Epoch 9/20\n",
      "310/310 [==============================] - 2s 6ms/step - loss: 5.6698e-04\n",
      "Epoch 10/20\n",
      "310/310 [==============================] - 2s 6ms/step - loss: 5.6424e-04\n",
      "Epoch 11/20\n",
      "310/310 [==============================] - 2s 6ms/step - loss: 5.6178e-04\n",
      "Epoch 12/20\n",
      "310/310 [==============================] - 2s 6ms/step - loss: 5.5943e-04\n",
      "Epoch 13/20\n",
      "310/310 [==============================] - 2s 6ms/step - loss: 5.5584e-04\n",
      "Epoch 14/20\n",
      "310/310 [==============================] - 2s 6ms/step - loss: 5.5426e-04\n",
      "Epoch 15/20\n",
      "310/310 [==============================] - 2s 6ms/step - loss: 5.5055e-04\n",
      "Epoch 16/20\n",
      "310/310 [==============================] - 2s 6ms/step - loss: 5.4837e-04\n",
      "Epoch 17/20\n",
      "310/310 [==============================] - 2s 6ms/step - loss: 5.4601e-04\n",
      "Epoch 18/20\n",
      "310/310 [==============================] - 2s 6ms/step - loss: 5.4394e-04\n",
      "Epoch 19/20\n",
      "310/310 [==============================] - 2s 6ms/step - loss: 5.4102e-04\n",
      "Epoch 20/20\n",
      "310/310 [==============================] - 2s 6ms/step - loss: 5.3961e-04\n"
     ]
    }
   ],
   "source": [
    "history = model.fit(x, y, epochs=20, batch_size=1024)"
   ]
  },
  {
   "cell_type": "code",
   "execution_count": 62,
   "id": "6d95d24b",
   "metadata": {},
   "outputs": [
    {
     "data": {
      "text/plain": [
       "[<matplotlib.lines.Line2D at 0x23a40161b50>]"
      ]
     },
     "execution_count": 62,
     "metadata": {},
     "output_type": "execute_result"
    },
    {
     "data": {
      "image/png": "[encoded data removed]",
      "text/plain": [
       "<Figure size 576x396 with 1 Axes>"
      ]
     },
     "metadata": {},
     "output_type": "display_data"
    }
   ],
   "source": [
    "plt.plot(history.history[\"loss\"])"
   ]
  },
  {
   "cell_type": "code",
   "execution_count": null,
   "id": "f334bddb",
   "metadata": {},
   "outputs": [],
   "source": []
  }
 ],
 "metadata": {
  "kernelspec": {
   "display_name": "Python 3",
   "language": "python",
   "name": "python3"
  },
  "language_info": {
   "codemirror_mode": {
    "name": "ipython",
    "version": 3
   },
   "file_extension": ".py",
   "mimetype": "text/x-python",
   "name": "python",
   "nbconvert_exporter": "python",
   "pygments_lexer": "ipython3",
   "version": "3.8.8"
  }
 },
 "nbformat": 4,
 "nbformat_minor": 5
}
