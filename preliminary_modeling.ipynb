{
  "nbformat": 4,
  "nbformat_minor": 0,
  "metadata": {
    "colab": {
      "name": "preliminary_modeling.ipynb",
      "provenance": [],
      "collapsed_sections": [],
      "authorship_tag": "ABX9TyPIBOxrcXNWsK+9jRGf1trA",
      "include_colab_link": true
    },
    "kernelspec": {
      "name": "python3",
      "display_name": "Python 3"
    },
    "language_info": {
      "name": "python"
    },
    "accelerator": "GPU"
  },
  "cells": [
    {
      "cell_type": "markdown",
      "metadata": {
        "id": "view-in-github",
        "colab_type": "text"
      },
      "source": [
        "<a href=\"https://colab.research.google.com/github/voynow/finance/blob/main/preliminary_modeling.ipynb\" target=\"_parent\"><img src=\"https://colab.research.google.com/assets/colab-badge.svg\" alt=\"Open In Colab\"/></a>"
      ]
    },
    {
      "cell_type": "markdown",
      "metadata": {
        "id": "qu7rQhq_jWs6"
      },
      "source": [
        "# How well can we predict direction of price change using raw price data and a basic neural network?\n",
        "This notebook serves as a baseline for any future modeling."
      ]
    },
    {
      "cell_type": "code",
      "metadata": {
        "colab": {
          "base_uri": "https://localhost:8080/"
        },
        "id": "h2lkrrMr5Vnv",
        "outputId": "fdcfe2ce-5e27-45a2-b3df-5c7ec5e3f652"
      },
      "source": [
        "from google.colab import drive\n",
        "drive.mount('/content/drive')"
      ],
      "execution_count": 1,
      "outputs": [
        {
          "output_type": "stream",
          "text": [
            "Mounted at /content/drive\n"
          ],
          "name": "stdout"
        }
      ]
    },
    {
      "cell_type": "code",
      "metadata": {
        "colab": {
          "base_uri": "https://localhost:8080/"
        },
        "id": "M_OQoqcb0vvr",
        "outputId": "0a5a2002-41b1-4bf6-bd8e-0884152c0387"
      },
      "source": [
        "%cd drive/MyDrive/finance\n",
        "%pip install yfinance"
      ],
      "execution_count": 2,
      "outputs": [
        {
          "output_type": "stream",
          "text": [
            "/content/drive/MyDrive/finance\n",
            "Collecting yfinance\n",
            "  Downloading yfinance-0.1.63.tar.gz (26 kB)\n",
            "Requirement already satisfied: pandas>=0.24 in /usr/local/lib/python3.7/dist-packages (from yfinance) (1.1.5)\n",
            "Requirement already satisfied: numpy>=1.15 in /usr/local/lib/python3.7/dist-packages (from yfinance) (1.19.5)\n",
            "Requirement already satisfied: requests>=2.20 in /usr/local/lib/python3.7/dist-packages (from yfinance) (2.23.0)\n",
            "Requirement already satisfied: multitasking>=0.0.7 in /usr/local/lib/python3.7/dist-packages (from yfinance) (0.0.9)\n",
            "Collecting lxml>=4.5.1\n",
            "  Downloading lxml-4.6.3-cp37-cp37m-manylinux2014_x86_64.whl (6.3 MB)\n",
            "\u001b[K     |████████████████████████████████| 6.3 MB 7.7 MB/s \n",
            "\u001b[?25hRequirement already satisfied: pytz>=2017.2 in /usr/local/lib/python3.7/dist-packages (from pandas>=0.24->yfinance) (2018.9)\n",
            "Requirement already satisfied: python-dateutil>=2.7.3 in /usr/local/lib/python3.7/dist-packages (from pandas>=0.24->yfinance) (2.8.2)\n",
            "Requirement already satisfied: six>=1.5 in /usr/local/lib/python3.7/dist-packages (from python-dateutil>=2.7.3->pandas>=0.24->yfinance) (1.15.0)\n",
            "Requirement already satisfied: chardet<4,>=3.0.2 in /usr/local/lib/python3.7/dist-packages (from requests>=2.20->yfinance) (3.0.4)\n",
            "Requirement already satisfied: urllib3!=1.25.0,!=1.25.1,<1.26,>=1.21.1 in /usr/local/lib/python3.7/dist-packages (from requests>=2.20->yfinance) (1.24.3)\n",
            "Requirement already satisfied: idna<3,>=2.5 in /usr/local/lib/python3.7/dist-packages (from requests>=2.20->yfinance) (2.10)\n",
            "Requirement already satisfied: certifi>=2017.4.17 in /usr/local/lib/python3.7/dist-packages (from requests>=2.20->yfinance) (2021.5.30)\n",
            "Building wheels for collected packages: yfinance\n",
            "  Building wheel for yfinance (setup.py) ... \u001b[?25l\u001b[?25hdone\n",
            "  Created wheel for yfinance: filename=yfinance-0.1.63-py2.py3-none-any.whl size=23918 sha256=519ea4a4f11de6f9ed497bb3ca9a31b00fad1d726286fbe1107a9eacd7e3de2f\n",
            "  Stored in directory: /root/.cache/pip/wheels/fe/87/8b/7ec24486e001d3926537f5f7801f57a74d181be25b11157983\n",
            "Successfully built yfinance\n",
            "Installing collected packages: lxml, yfinance\n",
            "  Attempting uninstall: lxml\n",
            "    Found existing installation: lxml 4.2.6\n",
            "    Uninstalling lxml-4.2.6:\n",
            "      Successfully uninstalled lxml-4.2.6\n",
            "Successfully installed lxml-4.6.3 yfinance-0.1.63\n"
          ],
          "name": "stdout"
        }
      ]
    },
    {
      "cell_type": "code",
      "metadata": {
        "id": "qpLwGhSq5rcR"
      },
      "source": [
        "import numpy as np\n",
        "import matplotlib.pyplot as plt\n",
        "plt.style.use('ggplot')\n",
        "\n",
        "import data_utils\n",
        "import model_exe"
      ],
      "execution_count": 10,
      "outputs": []
    },
    {
      "cell_type": "markdown",
      "metadata": {
        "id": "Ce7XElxNkDVm"
      },
      "source": [
        "### First we will use 250 assets as prediction inputs."
      ]
    },
    {
      "cell_type": "code",
      "metadata": {
        "colab": {
          "base_uri": "https://localhost:8080/"
        },
        "id": "pfhZO-pT6Dgp",
        "outputId": "b4f987d6-d43e-45fe-dc3e-6d3f755bfe1a"
      },
      "source": [
        "data = data_utils.get_data(source=\"russell\", size=250)\n",
        "history = model_exe.run_classifier(data)"
      ],
      "execution_count": 4,
      "outputs": [
        {
          "output_type": "stream",
          "text": [
            "Using 250 symbols\n",
            "Changing symbol JW.A to JW-A\n",
            "[*********************100%***********************]  250 of 250 completed\n",
            "\n",
            "Number Train Sequences: 180\ttotal data: 449441\n",
            "Number Test Sequences: 60\ttotal data: 143564\n",
            "\n",
            "Epoch 1/20\n",
            "220/220 [==============================] - 5s 7ms/step - loss: 0.6929 - acc: 0.5103 - val_loss: 0.6925 - val_acc: 0.5149\n",
            "Epoch 2/20\n",
            "220/220 [==============================] - 1s 6ms/step - loss: 0.6923 - acc: 0.5164 - val_loss: 0.6920 - val_acc: 0.5187\n",
            "Epoch 3/20\n",
            "220/220 [==============================] - 1s 6ms/step - loss: 0.6921 - acc: 0.5183 - val_loss: 0.6918 - val_acc: 0.5208\n",
            "Epoch 4/20\n",
            "220/220 [==============================] - 2s 7ms/step - loss: 0.6919 - acc: 0.5191 - val_loss: 0.6917 - val_acc: 0.5194\n",
            "Epoch 5/20\n",
            "220/220 [==============================] - 1s 6ms/step - loss: 0.6915 - acc: 0.5223 - val_loss: 0.6915 - val_acc: 0.5217\n",
            "Epoch 6/20\n",
            "220/220 [==============================] - 1s 6ms/step - loss: 0.6913 - acc: 0.5222 - val_loss: 0.6912 - val_acc: 0.5227\n",
            "Epoch 7/20\n",
            "220/220 [==============================] - 1s 6ms/step - loss: 0.6910 - acc: 0.5235 - val_loss: 0.6907 - val_acc: 0.5242\n",
            "Epoch 8/20\n",
            "220/220 [==============================] - 1s 6ms/step - loss: 0.6907 - acc: 0.5241 - val_loss: 0.6908 - val_acc: 0.5241\n",
            "Epoch 9/20\n",
            "220/220 [==============================] - 1s 6ms/step - loss: 0.6905 - acc: 0.5254 - val_loss: 0.6908 - val_acc: 0.5236\n",
            "Epoch 10/20\n",
            "220/220 [==============================] - 2s 7ms/step - loss: 0.6903 - acc: 0.5261 - val_loss: 0.6903 - val_acc: 0.5258\n",
            "Epoch 11/20\n",
            "220/220 [==============================] - 1s 7ms/step - loss: 0.6901 - acc: 0.5267 - val_loss: 0.6903 - val_acc: 0.5253\n",
            "Epoch 12/20\n",
            "220/220 [==============================] - 1s 6ms/step - loss: 0.6901 - acc: 0.5262 - val_loss: 0.6905 - val_acc: 0.5251\n",
            "Epoch 13/20\n",
            "220/220 [==============================] - 1s 6ms/step - loss: 0.6899 - acc: 0.5273 - val_loss: 0.6902 - val_acc: 0.5261\n",
            "Epoch 14/20\n",
            "220/220 [==============================] - 2s 7ms/step - loss: 0.6898 - acc: 0.5278 - val_loss: 0.6899 - val_acc: 0.5265\n",
            "Epoch 15/20\n",
            "220/220 [==============================] - 1s 6ms/step - loss: 0.6896 - acc: 0.5280 - val_loss: 0.6899 - val_acc: 0.5259\n",
            "Epoch 16/20\n",
            "220/220 [==============================] - 2s 7ms/step - loss: 0.6895 - acc: 0.5282 - val_loss: 0.6901 - val_acc: 0.5241\n",
            "Epoch 17/20\n",
            "220/220 [==============================] - 1s 6ms/step - loss: 0.6894 - acc: 0.5281 - val_loss: 0.6898 - val_acc: 0.5261\n",
            "Epoch 18/20\n",
            "220/220 [==============================] - 1s 6ms/step - loss: 0.6894 - acc: 0.5288 - val_loss: 0.6899 - val_acc: 0.5266\n",
            "Epoch 19/20\n",
            "220/220 [==============================] - 1s 6ms/step - loss: 0.6892 - acc: 0.5295 - val_loss: 0.6897 - val_acc: 0.5276\n",
            "Epoch 20/20\n",
            "220/220 [==============================] - 1s 6ms/step - loss: 0.6892 - acc: 0.5289 - val_loss: 0.6896 - val_acc: 0.5283\n"
          ],
          "name": "stdout"
        }
      ]
    },
    {
      "cell_type": "code",
      "metadata": {
        "id": "IZtBaXET3zDD",
        "colab": {
          "base_uri": "https://localhost:8080/",
          "height": 391
        },
        "outputId": "12991864-27e4-4dd6-ed7b-52f435a08409"
      },
      "source": [
        "plt.figure(figsize=(10, 6))\n",
        "plt.plot(history.history[\"val_acc\"])\n",
        "\n",
        "plt.xlabel(\"Epochs\")\n",
        "plt.ylabel(\"Acc\")\n",
        "plt.show()"
      ],
      "execution_count": 14,
      "outputs": [
        {
          "output_type": "display_data",
          "data": {
            "image/png": "[encoded data removed]",
            "text/plain": [
              "<Figure size 720x432 with 1 Axes>"
            ]
          },
          "metadata": {}
        }
      ]
    },
    {
      "cell_type": "markdown",
      "metadata": {
        "id": "Sbokqxi0kOKD"
      },
      "source": [
        "### I wonder if adding more assets to our input will yield a significant increase in performance? Lets use 1000 assets, 4x more than our original experiment. "
      ]
    },
    {
      "cell_type": "code",
      "metadata": {
        "colab": {
          "base_uri": "https://localhost:8080/"
        },
        "id": "P2vUZNsQkOsw",
        "outputId": "fd3d8107-6d00-4686-9d9e-0621eff9629e"
      },
      "source": [
        "data = data_utils.get_data(source=\"russell\", size=1000)\n",
        "history = model_exe.run_classifier(data)"
      ],
      "execution_count": 15,
      "outputs": [
        {
          "output_type": "stream",
          "text": [
            "Using 1000 symbols\n",
            "Changing symbol MOG.A to MOG-A\n",
            "Changing symbol BF.B to BF-B\n",
            "Changing symbol LGF.B to LGF-B\n",
            "Changing symbol LGF.A to LGF-A\n",
            "Changing symbol CRD.B to CRD-B\n",
            "Changing symbol BRK.B to BRK-B\n",
            "[*********************100%***********************]  1000 of 1000 completed\n",
            "\n",
            "Number Train Sequences: 713\ttotal data: 1811207\n",
            "Number Test Sequences: 237\ttotal data: 599065\n",
            "\n",
            "Epoch 1/20\n",
            "885/885 [==============================] - 6s 6ms/step - loss: 0.6928 - acc: 0.5153 - val_loss: 0.6917 - val_acc: 0.5220\n",
            "Epoch 2/20\n",
            "885/885 [==============================] - 5s 6ms/step - loss: 0.6919 - acc: 0.5212 - val_loss: 0.6910 - val_acc: 0.5227\n",
            "Epoch 3/20\n",
            "885/885 [==============================] - 6s 6ms/step - loss: 0.6912 - acc: 0.5229 - val_loss: 0.6906 - val_acc: 0.5231\n",
            "Epoch 4/20\n",
            "885/885 [==============================] - 6s 7ms/step - loss: 0.6910 - acc: 0.5247 - val_loss: 0.6902 - val_acc: 0.5274\n",
            "Epoch 5/20\n",
            "885/885 [==============================] - 6s 6ms/step - loss: 0.6905 - acc: 0.5254 - val_loss: 0.6900 - val_acc: 0.5246\n",
            "Epoch 6/20\n",
            "885/885 [==============================] - 6s 6ms/step - loss: 0.6901 - acc: 0.5271 - val_loss: 0.6891 - val_acc: 0.5297\n",
            "Epoch 7/20\n",
            "885/885 [==============================] - 6s 6ms/step - loss: 0.6900 - acc: 0.5271 - val_loss: 0.6890 - val_acc: 0.5316\n",
            "Epoch 8/20\n",
            "885/885 [==============================] - 6s 6ms/step - loss: 0.6896 - acc: 0.5282 - val_loss: 0.6891 - val_acc: 0.5272\n",
            "Epoch 9/20\n",
            "885/885 [==============================] - 6s 6ms/step - loss: 0.6895 - acc: 0.5282 - val_loss: 0.6888 - val_acc: 0.5319\n",
            "Epoch 10/20\n",
            "885/885 [==============================] - 6s 6ms/step - loss: 0.6893 - acc: 0.5290 - val_loss: 0.6882 - val_acc: 0.5325\n",
            "Epoch 11/20\n",
            "885/885 [==============================] - 6s 6ms/step - loss: 0.6890 - acc: 0.5298 - val_loss: 0.6881 - val_acc: 0.5340\n",
            "Epoch 12/20\n",
            "885/885 [==============================] - 6s 6ms/step - loss: 0.6888 - acc: 0.5304 - val_loss: 0.6879 - val_acc: 0.5341\n",
            "Epoch 13/20\n",
            "885/885 [==============================] - 6s 6ms/step - loss: 0.6887 - acc: 0.5301 - val_loss: 0.6880 - val_acc: 0.5338\n",
            "Epoch 14/20\n",
            "885/885 [==============================] - 6s 6ms/step - loss: 0.6885 - acc: 0.5312 - val_loss: 0.6878 - val_acc: 0.5326\n",
            "Epoch 15/20\n",
            "885/885 [==============================] - 6s 6ms/step - loss: 0.6883 - acc: 0.5313 - val_loss: 0.6876 - val_acc: 0.5346\n",
            "Epoch 16/20\n",
            "885/885 [==============================] - 6s 6ms/step - loss: 0.6883 - acc: 0.5310 - val_loss: 0.6879 - val_acc: 0.5321\n",
            "Epoch 17/20\n",
            "885/885 [==============================] - 6s 6ms/step - loss: 0.6881 - acc: 0.5317 - val_loss: 0.6877 - val_acc: 0.5346\n",
            "Epoch 18/20\n",
            "885/885 [==============================] - 6s 6ms/step - loss: 0.6881 - acc: 0.5316 - val_loss: 0.6871 - val_acc: 0.5353\n",
            "Epoch 19/20\n",
            "885/885 [==============================] - 6s 6ms/step - loss: 0.6880 - acc: 0.5321 - val_loss: 0.6871 - val_acc: 0.5356\n",
            "Epoch 20/20\n",
            "885/885 [==============================] - 6s 6ms/step - loss: 0.6879 - acc: 0.5320 - val_loss: 0.6872 - val_acc: 0.5353\n"
          ],
          "name": "stdout"
        }
      ]
    },
    {
      "cell_type": "code",
      "metadata": {
        "colab": {
          "base_uri": "https://localhost:8080/",
          "height": 391
        },
        "id": "0LVo4d4QkwBT",
        "outputId": "eeb9acac-0e41-4b04-d9bc-2f208f21d3cc"
      },
      "source": [
        "plt.figure(figsize=(10, 6))\n",
        "plt.plot(history.history[\"val_acc\"])\n",
        "\n",
        "plt.xlabel(\"Epochs\")\n",
        "plt.ylabel(\"Acc\")\n",
        "plt.show()"
      ],
      "execution_count": 16,
      "outputs": [
        {
          "output_type": "display_data",
          "data": {
            "image/png": "[encoded data removed]",
            "text/plain": [
              "<Figure size 720x432 with 1 Axes>"
            ]
          },
          "metadata": {}
        }
      ]
    },
    {
      "cell_type": "markdown",
      "metadata": {
        "id": "e9sN2YsOmB1P"
      },
      "source": [
        "### In the experiment with more data, our accuracy increases only slightly (less than one percent). If adding more data does not yield better results, than what will? We will investigate this in future experiements."
      ]
    },
    {
      "cell_type": "code",
      "metadata": {
        "id": "JNkqeRZhmiZ7"
      },
      "source": [
        ""
      ],
      "execution_count": null,
      "outputs": []
    }
  ]
}