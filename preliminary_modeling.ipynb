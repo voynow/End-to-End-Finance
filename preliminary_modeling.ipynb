{
 "cells": [
  {
   "cell_type": "code",
   "execution_count": 1,
   "id": "fd3ad13d",
   "metadata": {},
   "outputs": [],
   "source": [
    "%load_ext autoreload\n",
    "%autoreload 2\n",
    "\n",
    "import numpy as np\n",
    "import pandas as pd\n",
    "import matplotlib.pyplot as plt\n",
    "plt.style.use('seaborn')\n",
    "\n",
    "import misc_data_utils"
   ]
  },
  {
   "cell_type": "code",
   "execution_count": 17,
   "id": "ad34d1bd",
   "metadata": {},
   "outputs": [
    {
     "name": "stdout",
     "output_type": "stream",
     "text": [
      "Using 1500 symbols\n",
      "Changing symbol GEF.B to GEF-B\n",
      "Changing symbol CRD.B to CRD-B\n",
      "Changing symbol LGF.A to LGF-A\n",
      "Changing symbol HEI.A to HEI-A\n",
      "Changing symbol LEN.B to LEN-B\n",
      "Changing symbol LGF.B to LGF-B\n",
      "Changing symbol BRK.B to BRK-B\n",
      "[*********************100%***********************]  1500 of 1500 completed\n"
     ]
    }
   ],
   "source": [
    "# Could not get data for: ESNT, ATVI\n",
    "data = misc_data_utils.get_data(source=\"russell\", size=1500, start=\"2020-04-01\", interval='1h')"
   ]
  },
  {
   "cell_type": "code",
   "execution_count": 18,
   "id": "2237e6c6",
   "metadata": {},
   "outputs": [
    {
     "data": {
      "text/plain": [
       "((2722771, 10), (2722771,), (477751, 10), (477751,))"
      ]
     },
     "execution_count": 18,
     "metadata": {},
     "output_type": "execute_result"
    }
   ],
   "source": [
    "# Convert prices to percent change\n",
    "raw_data = data[\"Adj Close\"].pct_change().values[1:]\n",
    "\n",
    "# Clean and transform data for modeling\n",
    "sequences = misc_data_utils.clean_data(raw_data)\n",
    "train_sequences, test_sequences = misc_data_utils.train_test_split(sequences, test_size=0.15)\n",
    "\n",
    "# slice sequences for input-output relationtip with lagged price data as input\n",
    "x_train, y_train = misc_data_utils.slice_sequences(train_sequences, classification=True)\n",
    "x_test, y_test = misc_data_utils.slice_sequences(test_sequences, classification=True)\n",
    "x_train.shape, y_train.shape, x_test.shape, y_test.shape"
   ]
  },
  {
   "cell_type": "code",
   "execution_count": 19,
   "id": "f2c8c639",
   "metadata": {},
   "outputs": [],
   "source": [
    "from tensorflow.keras import Sequential\n",
    "from tensorflow.keras.layers import Dense"
   ]
  },
  {
   "cell_type": "code",
   "execution_count": 23,
   "id": "b85b38ab",
   "metadata": {},
   "outputs": [],
   "source": [
    "layers = [\n",
    "    Dense(64, activation='relu'), \n",
    "    Dense(64, activation='relu'), \n",
    "    \n",
    "    Dense(64, activation='relu'), \n",
    "    Dense(64, activation='relu'),\n",
    "    \n",
    "    Dense(64, activation='relu'), \n",
    "    Dense(64, activation='relu'),\n",
    "    \n",
    "    Dense(1, activation='sigmoid')\n",
    "]\n",
    "\n",
    "model = Sequential(layers)\n",
    "model.compile(loss=\"binary_crossentropy\", optimizer=\"adam\", metrics=['acc'])"
   ]
  },
  {
   "cell_type": "code",
   "execution_count": 24,
   "id": "8974b006",
   "metadata": {},
   "outputs": [
    {
     "name": "stdout",
     "output_type": "stream",
     "text": [
      "Epoch 1/40\n",
      "167/167 [==============================] - 23s 138ms/step - loss: 0.6927 - acc: 0.5137 - val_loss: 0.6922 - val_acc: 0.5197\n",
      "Epoch 2/40\n",
      "167/167 [==============================] - 23s 135ms/step - loss: 0.6920 - acc: 0.5202 - val_loss: 0.6918 - val_acc: 0.5213\n",
      "Epoch 3/40\n",
      "167/167 [==============================] - 22s 133ms/step - loss: 0.6915 - acc: 0.5221 - val_loss: 0.6911 - val_acc: 0.5252\n",
      "Epoch 4/40\n",
      "167/167 [==============================] - 24s 142ms/step - loss: 0.6911 - acc: 0.5246 - val_loss: 0.6912 - val_acc: 0.5230\n",
      "Epoch 5/40\n",
      "167/167 [==============================] - 23s 136ms/step - loss: 0.6908 - acc: 0.5252 - val_loss: 0.6905 - val_acc: 0.5265\n",
      "Epoch 6/40\n",
      "167/167 [==============================] - 22s 131ms/step - loss: 0.6904 - acc: 0.5263 - val_loss: 0.6908 - val_acc: 0.5250\n",
      "Epoch 7/40\n",
      "167/167 [==============================] - 22s 134ms/step - loss: 0.6899 - acc: 0.5267 - val_loss: 0.6923 - val_acc: 0.5157\n",
      "Epoch 8/40\n",
      "167/167 [==============================] - 22s 134ms/step - loss: 0.6897 - acc: 0.5270 - val_loss: 0.6893 - val_acc: 0.5291\n",
      "Epoch 9/40\n",
      "167/167 [==============================] - 22s 133ms/step - loss: 0.6889 - acc: 0.5280 - val_loss: 0.6887 - val_acc: 0.5283\n",
      "Epoch 10/40\n",
      "167/167 [==============================] - 23s 140ms/step - loss: 0.6885 - acc: 0.5283 - val_loss: 0.6889 - val_acc: 0.5287\n",
      "Epoch 11/40\n",
      "167/167 [==============================] - 22s 133ms/step - loss: 0.6880 - acc: 0.5289 - val_loss: 0.6901 - val_acc: 0.5265\n",
      "Epoch 12/40\n",
      "167/167 [==============================] - 23s 138ms/step - loss: 0.6887 - acc: 0.5281 - val_loss: 0.6893 - val_acc: 0.5295\n",
      "Epoch 13/40\n",
      "167/167 [==============================] - 23s 135ms/step - loss: 0.6875 - acc: 0.5296 - val_loss: 0.6877 - val_acc: 0.5293\n",
      "Epoch 14/40\n",
      "167/167 [==============================] - 23s 135ms/step - loss: 0.6870 - acc: 0.5302 - val_loss: 0.6871 - val_acc: 0.5309\n",
      "Epoch 15/40\n",
      "167/167 [==============================] - 23s 140ms/step - loss: 0.6867 - acc: 0.5309 - val_loss: 0.6871 - val_acc: 0.5315\n",
      "Epoch 16/40\n",
      "167/167 [==============================] - 23s 139ms/step - loss: 0.6865 - acc: 0.5312 - val_loss: 0.6866 - val_acc: 0.5314\n",
      "Epoch 17/40\n",
      "167/167 [==============================] - 23s 140ms/step - loss: 0.6863 - acc: 0.5314 - val_loss: 0.6866 - val_acc: 0.5322\n",
      "Epoch 18/40\n",
      "167/167 [==============================] - 23s 139ms/step - loss: 0.6859 - acc: 0.5323 - val_loss: 0.6866 - val_acc: 0.5323\n",
      "Epoch 19/40\n",
      "167/167 [==============================] - 23s 139ms/step - loss: 0.6859 - acc: 0.5319 - val_loss: 0.6860 - val_acc: 0.5324\n",
      "Epoch 20/40\n",
      "167/167 [==============================] - 22s 131ms/step - loss: 0.6855 - acc: 0.5326 - val_loss: 0.6863 - val_acc: 0.5323\n",
      "Epoch 21/40\n",
      "167/167 [==============================] - 23s 138ms/step - loss: 0.6856 - acc: 0.5326 - val_loss: 0.6866 - val_acc: 0.5318\n",
      "Epoch 22/40\n",
      "167/167 [==============================] - 22s 134ms/step - loss: 0.6853 - acc: 0.5334 - val_loss: 0.6856 - val_acc: 0.5326\n",
      "Epoch 23/40\n",
      "167/167 [==============================] - 21s 127ms/step - loss: 0.6853 - acc: 0.5335 - val_loss: 0.6858 - val_acc: 0.5329\n",
      "Epoch 24/40\n",
      "167/167 [==============================] - 21s 126ms/step - loss: 0.6848 - acc: 0.5338 - val_loss: 0.6865 - val_acc: 0.5330\n",
      "Epoch 25/40\n",
      "167/167 [==============================] - 21s 127ms/step - loss: 0.6848 - acc: 0.5340 - val_loss: 0.6854 - val_acc: 0.5330\n",
      "Epoch 26/40\n",
      "167/167 [==============================] - 21s 127ms/step - loss: 0.6847 - acc: 0.5342 - val_loss: 0.6856 - val_acc: 0.5318\n",
      "Epoch 27/40\n",
      "167/167 [==============================] - 21s 127ms/step - loss: 0.6845 - acc: 0.5346 - val_loss: 0.6856 - val_acc: 0.5348\n",
      "Epoch 28/40\n",
      "167/167 [==============================] - 21s 125ms/step - loss: 0.6843 - acc: 0.5346 - val_loss: 0.6852 - val_acc: 0.5341\n",
      "Epoch 29/40\n",
      "167/167 [==============================] - 21s 126ms/step - loss: 0.6842 - acc: 0.5349 - val_loss: 0.6853 - val_acc: 0.5318\n",
      "Epoch 30/40\n",
      "167/167 [==============================] - 21s 126ms/step - loss: 0.6841 - acc: 0.5352 - val_loss: 0.6851 - val_acc: 0.5334\n",
      "Epoch 31/40\n",
      "167/167 [==============================] - 21s 126ms/step - loss: 0.6840 - acc: 0.5353 - val_loss: 0.6851 - val_acc: 0.5342\n",
      "Epoch 32/40\n",
      "167/167 [==============================] - 21s 126ms/step - loss: 0.6839 - acc: 0.5354 - val_loss: 0.6850 - val_acc: 0.5346\n",
      "Epoch 33/40\n",
      "167/167 [==============================] - 21s 126ms/step - loss: 0.6838 - acc: 0.5358 - val_loss: 0.6852 - val_acc: 0.5332\n",
      "Epoch 34/40\n",
      "167/167 [==============================] - 21s 127ms/step - loss: 0.6839 - acc: 0.5353 - val_loss: 0.6852 - val_acc: 0.5320\n",
      "Epoch 35/40\n",
      "167/167 [==============================] - 21s 126ms/step - loss: 0.6837 - acc: 0.5354 - val_loss: 0.6870 - val_acc: 0.5346\n",
      "Epoch 36/40\n",
      "167/167 [==============================] - 21s 125ms/step - loss: 0.6837 - acc: 0.5364 - val_loss: 0.6847 - val_acc: 0.5348\n",
      "Epoch 37/40\n",
      "167/167 [==============================] - 21s 126ms/step - loss: 0.6833 - acc: 0.5363 - val_loss: 0.6866 - val_acc: 0.5343\n",
      "Epoch 38/40\n",
      "167/167 [==============================] - 21s 128ms/step - loss: 0.6834 - acc: 0.5362 - val_loss: 0.6858 - val_acc: 0.5336\n",
      "Epoch 39/40\n",
      "167/167 [==============================] - 21s 127ms/step - loss: 0.6833 - acc: 0.5368 - val_loss: 0.6847 - val_acc: 0.5344\n",
      "Epoch 40/40\n",
      "167/167 [==============================] - 21s 125ms/step - loss: 0.6834 - acc: 0.5363 - val_loss: 0.6845 - val_acc: 0.5347\n"
     ]
    }
   ],
   "source": [
    "history = model.fit(\n",
    "    x_train, \n",
    "    y_train, \n",
    "    epochs=40, \n",
    "    batch_size=4096 * 4, \n",
    "    validation_data=(x_test, y_test))"
   ]
  },
  {
   "cell_type": "code",
   "execution_count": 25,
   "id": "6d95d24b",
   "metadata": {},
   "outputs": [
    {
     "data": {
      "image/png": "[encoded data removed]",
      "text/plain": [
       "<Figure size 576x396 with 1 Axes>"
      ]
     },
     "metadata": {},
     "output_type": "display_data"
    }
   ],
   "source": [
    "plt.plot(history.history[\"val_acc\"])\n",
    "plt.xlabel(\"Epochs\")\n",
    "plt.ylabel(\"Loss (mse)\")\n",
    "plt.show()"
   ]
  },
  {
   "cell_type": "code",
   "execution_count": null,
   "id": "f334bddb",
   "metadata": {},
   "outputs": [],
   "source": []
  }
 ],
 "metadata": {
  "kernelspec": {
   "display_name": "Python 3",
   "language": "python",
   "name": "python3"
  },
  "language_info": {
   "codemirror_mode": {
    "name": "ipython",
    "version": 3
   },
   "file_extension": ".py",
   "mimetype": "text/x-python",
   "name": "python",
   "nbconvert_exporter": "python",
   "pygments_lexer": "ipython3",
   "version": "3.8.8"
  }
 },
 "nbformat": 4,
 "nbformat_minor": 5
}
