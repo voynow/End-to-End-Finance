{
 "cells": [
  {
   "cell_type": "code",
   "execution_count": 1,
   "id": "fd3ad13d",
   "metadata": {},
   "outputs": [],
   "source": [
    "%load_ext autoreload\n",
    "%autoreload 2\n",
    "\n",
    "import numpy as np\n",
    "import pandas as pd\n",
    "import matplotlib.pyplot as plt\n",
    "plt.style.use('seaborn')\n",
    "\n",
    "import data_utils\n",
    "import model_exe"
   ]
  },
  {
   "cell_type": "code",
   "execution_count": 10,
   "id": "ad34d1bd",
   "metadata": {},
   "outputs": [
    {
     "name": "stdout",
     "output_type": "stream",
     "text": [
      "Using 500 symbols\n",
      "Changing symbol BF.A to BF-A\n",
      "[*********************100%***********************]  500 of 500 completed\n"
     ]
    }
   ],
   "source": [
    "data = data_utils.get_data(source=\"russell\", size=500, start=\"2020-04-01\", interval='1h')"
   ]
  },
  {
   "cell_type": "code",
   "execution_count": 23,
   "id": "4e0a657d",
   "metadata": {},
   "outputs": [
    {
     "name": "stdout",
     "output_type": "stream",
     "text": [
      "Number Train Sequences: 386\ttotal data: 937339\n",
      "Number Test Sequences: 67\ttotal data: 163614\n",
      "\n",
      "Model: \"sequential_14\"\n",
      "_________________________________________________________________\n",
      "Layer (type)                 Output Shape              Param #   \n",
      "=================================================================\n",
      "dense_84 (Dense)             (None, 64)                704       \n",
      "_________________________________________________________________\n",
      "dense_85 (Dense)             (None, 64)                4160      \n",
      "_________________________________________________________________\n",
      "dense_86 (Dense)             (None, 64)                4160      \n",
      "_________________________________________________________________\n",
      "dense_87 (Dense)             (None, 64)                4160      \n",
      "_________________________________________________________________\n",
      "dense_88 (Dense)             (None, 64)                4160      \n",
      "_________________________________________________________________\n",
      "dense_89 (Dense)             (None, 1)                 65        \n",
      "=================================================================\n",
      "Total params: 17,409\n",
      "Trainable params: 17,409\n",
      "Non-trainable params: 0\n",
      "_________________________________________________________________\n",
      "None\n",
      "Epoch 1/10\n",
      "916/916 [==============================] - 8s 8ms/step - loss: 0.6925 - acc: 0.5158 - val_loss: 0.6923 - val_acc: 0.5170\n",
      "Epoch 2/10\n",
      "916/916 [==============================] - 7s 8ms/step - loss: 0.6920 - acc: 0.5197 - val_loss: 0.6918 - val_acc: 0.5203\n",
      "Epoch 3/10\n",
      "916/916 [==============================] - 7s 8ms/step - loss: 0.6914 - acc: 0.5226 - val_loss: 0.6909 - val_acc: 0.5218\n",
      "Epoch 4/10\n",
      "916/916 [==============================] - 7s 8ms/step - loss: 0.6898 - acc: 0.5237 - val_loss: 0.6881 - val_acc: 0.5222\n",
      "Epoch 5/10\n",
      "916/916 [==============================] - 7s 8ms/step - loss: 0.6876 - acc: 0.5243 - val_loss: 0.6866 - val_acc: 0.5222\n",
      "Epoch 6/10\n",
      "916/916 [==============================] - 7s 8ms/step - loss: 0.6877 - acc: 0.5248 - val_loss: 0.6903 - val_acc: 0.5203\n",
      "Epoch 7/10\n",
      "916/916 [==============================] - 7s 8ms/step - loss: 0.6865 - acc: 0.5261 - val_loss: 0.6859 - val_acc: 0.5240\n",
      "Epoch 8/10\n",
      "916/916 [==============================] - 7s 8ms/step - loss: 0.6852 - acc: 0.5266 - val_loss: 0.6856 - val_acc: 0.5261\n",
      "Epoch 9/10\n",
      "916/916 [==============================] - 7s 8ms/step - loss: 0.6849 - acc: 0.5271 - val_loss: 0.6857 - val_acc: 0.5267\n",
      "Epoch 10/10\n",
      "916/916 [==============================] - 7s 8ms/step - loss: 0.6845 - acc: 0.5274 - val_loss: 0.6861 - val_acc: 0.5252\n"
     ]
    },
    {
     "data": {
      "text/plain": [
       "<keras.callbacks.History at 0x2a735cd2370>"
      ]
     },
     "execution_count": 23,
     "metadata": {},
     "output_type": "execute_result"
    }
   ],
   "source": [
    "model_exe.run_classifier(data)"
   ]
  },
  {
   "cell_type": "code",
   "execution_count": null,
   "id": "a7da9446",
   "metadata": {},
   "outputs": [],
   "source": []
  }
 ],
 "metadata": {
  "kernelspec": {
   "display_name": "Python 3",
   "language": "python",
   "name": "python3"
  },
  "language_info": {
   "codemirror_mode": {
    "name": "ipython",
    "version": 3
   },
   "file_extension": ".py",
   "mimetype": "text/x-python",
   "name": "python",
   "nbconvert_exporter": "python",
   "pygments_lexer": "ipython3",
   "version": "3.8.8"
  }
 },
 "nbformat": 4,
 "nbformat_minor": 5
}
