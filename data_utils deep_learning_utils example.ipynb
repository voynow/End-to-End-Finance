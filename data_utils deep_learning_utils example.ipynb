{
 "cells": [
  {
   "cell_type": "code",
   "execution_count": 79,
   "id": "fd3ad13d",
   "metadata": {},
   "outputs": [
    {
     "name": "stdout",
     "output_type": "stream",
     "text": [
      "The autoreload extension is already loaded. To reload it, use:\n",
      "  %reload_ext autoreload\n"
     ]
    }
   ],
   "source": [
    "%load_ext autoreload\n",
    "%autoreload 2\n",
    "\n",
    "import numpy as np\n",
    "import pandas as pd\n",
    "import matplotlib.pyplot as plt\n",
    "plt.style.use('seaborn')\n",
    "\n",
    "import data_utils\n",
    "import deep_learning_utils"
   ]
  },
  {
   "cell_type": "code",
   "execution_count": 80,
   "id": "ad34d1bd",
   "metadata": {},
   "outputs": [
    {
     "name": "stdout",
     "output_type": "stream",
     "text": [
      "Using 500 symbols\n",
      "[*********************100%***********************]  500 of 500 completed\n"
     ]
    }
   ],
   "source": [
    "# Could not get data for: ESNT, ATVI\n",
    "data = data_utils.get_data(source=\"russell\", size=500, start=\"2020-04-01\", interval='1h')"
   ]
  },
  {
   "cell_type": "code",
   "execution_count": 92,
   "id": "2237e6c6",
   "metadata": {},
   "outputs": [
    {
     "data": {
      "text/plain": [
       "((924548, 10), (924548,), (163614, 10), (163614,))"
      ]
     },
     "execution_count": 92,
     "metadata": {},
     "output_type": "execute_result"
    }
   ],
   "source": [
    "# Convert prices to percent change\n",
    "raw_data = data[\"Adj Close\"].pct_change().values[1:]\n",
    "\n",
    "# Clean and transform data for modeling\n",
    "sequences = data_utils.clean_data(raw_data)\n",
    "train_sequences, test_sequences = data_utils.train_test_split(sequences, test_size=0.15)\n",
    "\n",
    "# slice sequences for input-output relationtip with lagged price data as input\n",
    "x_train, y_train = data_utils.slice_sequences(train_sequences, classification=True)\n",
    "x_test, y_test = data_utils.slice_sequences(test_sequences, classification=True)\n",
    "x_train.shape, y_train.shape, x_test.shape, y_test.shape"
   ]
  },
  {
   "cell_type": "code",
   "execution_count": 96,
   "id": "1ba83b01",
   "metadata": {},
   "outputs": [
    {
     "name": "stdout",
     "output_type": "stream",
     "text": [
      "Model: \"sequential_28\"\n",
      "_________________________________________________________________\n",
      "Layer (type)                 Output Shape              Param #   \n",
      "=================================================================\n",
      "dense_232 (Dense)            (None, 64)                704       \n",
      "_________________________________________________________________\n",
      "dense_233 (Dense)            (None, 64)                4160      \n",
      "_________________________________________________________________\n",
      "dense_234 (Dense)            (None, 64)                4160      \n",
      "_________________________________________________________________\n",
      "dense_235 (Dense)            (None, 64)                4160      \n",
      "_________________________________________________________________\n",
      "dense_236 (Dense)            (None, 64)                4160      \n",
      "_________________________________________________________________\n",
      "dense_237 (Dense)            (None, 1)                 65        \n",
      "=================================================================\n",
      "Total params: 17,409\n",
      "Trainable params: 17,409\n",
      "Non-trainable params: 0\n",
      "_________________________________________________________________\n",
      "None\n",
      "Epoch 1/10\n",
      "903/903 [==============================] - 9s 9ms/step - loss: 0.6930 - acc: 0.5085 - val_loss: 0.6929 - val_acc: 0.5091\n",
      "Epoch 2/10\n",
      "903/903 [==============================] - 8s 9ms/step - loss: 0.6927 - acc: 0.5125 - val_loss: 0.6927 - val_acc: 0.5159\n",
      "Epoch 3/10\n",
      "903/903 [==============================] - 9s 10ms/step - loss: 0.6925 - acc: 0.5152 - val_loss: 0.6924 - val_acc: 0.5158\n",
      "Epoch 4/10\n",
      "903/903 [==============================] - 8s 9ms/step - loss: 0.6923 - acc: 0.5175 - val_loss: 0.6922 - val_acc: 0.5183\n",
      "Epoch 5/10\n",
      "903/903 [==============================] - 8s 9ms/step - loss: 0.6922 - acc: 0.5184 - val_loss: 0.6920 - val_acc: 0.5192\n",
      "Epoch 6/10\n",
      "903/903 [==============================] - 8s 9ms/step - loss: 0.6920 - acc: 0.5193 - val_loss: 0.6917 - val_acc: 0.5198\n",
      "Epoch 7/10\n",
      "903/903 [==============================] - 8s 9ms/step - loss: 0.6918 - acc: 0.5202 - val_loss: 0.6919 - val_acc: 0.5197\n",
      "Epoch 8/10\n",
      "903/903 [==============================] - 8s 9ms/step - loss: 0.6917 - acc: 0.5209 - val_loss: 0.6914 - val_acc: 0.5220\n",
      "Epoch 9/10\n",
      "903/903 [==============================] - 8s 9ms/step - loss: 0.6915 - acc: 0.5218 - val_loss: 0.6913 - val_acc: 0.5208\n",
      "Epoch 10/10\n",
      "903/903 [==============================] - 8s 9ms/step - loss: 0.6914 - acc: 0.5214 - val_loss: 0.6915 - val_acc: 0.5211\n"
     ]
    }
   ],
   "source": [
    "# Basic neural net using custom deep learning utils\n",
    "model = deep_learning_utils.build_nn(input_shape=x_train.shape[1:])\n",
    "history = deep_learning_utils.train_nn(model, x_train, y_train, (x_test, y_test))"
   ]
  },
  {
   "cell_type": "code",
   "execution_count": 97,
   "id": "6d95d24b",
   "metadata": {},
   "outputs": [
    {
     "data": {
      "image/png": "[encoded data removed]",
      "text/plain": [
       "<Figure size 576x396 with 1 Axes>"
      ]
     },
     "metadata": {},
     "output_type": "display_data"
    }
   ],
   "source": [
    "plt.plot(history.history[\"val_acc\"])\n",
    "plt.xlabel(\"Epochs\")\n",
    "plt.ylabel(\"Loss (mse)\")\n",
    "plt.show()"
   ]
  }
 ],
 "metadata": {
  "kernelspec": {
   "display_name": "Python 3",
   "language": "python",
   "name": "python3"
  },
  "language_info": {
   "codemirror_mode": {
    "name": "ipython",
    "version": 3
   },
   "file_extension": ".py",
   "mimetype": "text/x-python",
   "name": "python",
   "nbconvert_exporter": "python",
   "pygments_lexer": "ipython3",
   "version": "3.8.8"
  }
 },
 "nbformat": 4,
 "nbformat_minor": 5
}
