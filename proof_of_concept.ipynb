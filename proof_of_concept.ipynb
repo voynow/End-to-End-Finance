{
 "cells": [
  {
   "cell_type": "code",
   "execution_count": 1,
   "id": "595338cb",
   "metadata": {},
   "outputs": [],
   "source": [
    "%load_ext autoreload\n",
    "%autoreload 2\n",
    "\n",
    "import psycopg2\n",
    "import numpy as np\n",
    "import pandas as pd\n",
    "import matplotlib.pyplot as plt\n",
    "plt.style.use('seaborn')\n",
    "\n",
    "from data import data_utils\n",
    "from config import get_password\n",
    "\n",
    "# retrieve password\n",
    "password = get_password()"
   ]
  },
  {
   "cell_type": "code",
   "execution_count": 20,
   "id": "3b012fdc",
   "metadata": {},
   "outputs": [
    {
     "name": "stdout",
     "output_type": "stream",
     "text": [
      "2021-9-16\n",
      "2021-09-16 15:30:00-04:00\n",
      "Using 10 symbols\n",
      "[*********************100%***********************]  10 of 10 completed\n"
     ]
    }
   ],
   "source": [
    "q = \"SELECT distinct dt from price_history order by dt desc limit 1;\"\n",
    "\n",
    "# Connect to postgres financial_data database\n",
    "con = psycopg2.connect(\n",
    "            host=\"localhost\",\n",
    "            database=\"financial_data\",\n",
    "            user='postgres',\n",
    "            password=f'{password}')\n",
    "\n",
    "# create cursor\n",
    "c = con.cursor()\n",
    "\n",
    "# execute query for last date in price_history\n",
    "c.execute(q)\n",
    "\n",
    "# get date value\n",
    "t = c.fetchone()[0]\n",
    "date_string = f'{t.year}-{t.month}-{t.day}'\n",
    "print(date_string)\n",
    "print(t)\n",
    "\n",
    "\n",
    "# pull data using date as starting point\n",
    "new_data = data_utils.get_data(\n",
    "    source='russell', \n",
    "    size=10,  # this will change to be all data\n",
    "    start=date_string)\n",
    "\n",
    "# close connection\n",
    "con.close()"
   ]
  },
  {
   "cell_type": "code",
   "execution_count": null,
   "id": "a54eb931",
   "metadata": {},
   "outputs": [],
   "source": []
  }
 ],
 "metadata": {
  "kernelspec": {
   "display_name": "Python 3",
   "language": "python",
   "name": "python3"
  },
  "language_info": {
   "codemirror_mode": {
    "name": "ipython",
    "version": 3
   },
   "file_extension": ".py",
   "mimetype": "text/x-python",
   "name": "python",
   "nbconvert_exporter": "python",
   "pygments_lexer": "ipython3",
   "version": "3.8.8"
  }
 },
 "nbformat": 4,
 "nbformat_minor": 5
}
